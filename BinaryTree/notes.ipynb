{
 "cells": [
  {
   "cell_type": "markdown",
   "metadata": {},
   "source": [
    "# Binary Search\n"
   ]
  },
  {
   "cell_type": "markdown",
   "metadata": {},
   "source": [
    "<div style=\"font-size: 10px\">\n",
    "\n",
    "- Initially, our domain of search is [1,N]. \n",
    "- While our domain of search  [left,right] has a length greater than 1, compare our query integer with the element in the center of the domain, say a [ ( l e f t + r i g h t ) / 2 ]. If the query is greater than the middle value, the new search domain is [ ( l e f t + r i g h t ) / 2 + 1 , r i g h t ] . If the query is smaller than or equal to the middle element, the new search domain is [ l e f t , ( l e f t + r i g h t ) / 2 ] . \n",
    "- When the domain becomes a single element, stop. If the element in the domain is equal to the query, it is also the leftmost appearance; if the element is not equal to the query, then the query cannot be found in the array, but the domain will be the greatest element smaller than our query in the array.\n",
    "</div>\n"
   ]
  },
  {
   "cell_type": "markdown",
   "metadata": {},
   "source": [
    "<p style=\"font-family:monospace\">Binary search will always find the leftmost occurence.\n",
    "</p>\n"
   ]
  },
  {
   "cell_type": "markdown",
   "metadata": {},
   "source": [
    "<div style=\"font-size: 10px\">\n",
    "\n",
    "``` c\n",
    "int binary_search(vector<int> &a, int query) {\n",
    "    int left = 0, right = a.size() - 1;\n",
    "    while (left < right) {\n",
    "        int middle = (left + right) / 2;\n",
    "        if (a[middle]) < query) {\n",
    "            left = middle + 1;\n",
    "        } else {\n",
    "            right = middle;\n",
    "        }\n",
    "    }\n",
    "    if (a[left] == query) {\n",
    "        return left;\n",
    "    }\n",
    "    return -1;\n",
    "}\n",
    "\n",
    "```\n",
    "\n",
    "\n",
    "however if we are interested in finding the rightmost occurent here is the slight modification , in a[middle] if it is greater than query element than right = mid -1 ;\n",
    "\n",
    "\n",
    "``` c\n",
    "\n",
    "\n",
    "long long f(int x) {\n",
    "    return (long long)x * x;\n",
    "}\n",
    "int square_root(int x) {\n",
    "    int left = 0, right = x;\n",
    "    while (left < right) {\n",
    "        int middle = (left + right) / 2;\n",
    "        if (f(middle) <= x) {    // fmid > x => right -1;\n",
    "            left = middle;\n",
    "        } else {\n",
    "            right = middle - 1;\n",
    "        }\n",
    "    }\n",
    "    return left;\n",
    "}\n",
    "```\n",
    "\n",
    "\n",
    "</div>\n"
   ]
  },
  {
   "cell_type": "markdown",
   "metadata": {},
   "source": [
    "<div style=\"font-size=10px;\">\n",
    "\n",
    "```c\n",
    "// off topic binary search\n",
    "int k = 0;\n",
    "for (int b = n/2; b >= 1; b /= 2) \n",
    "{\n",
    "    while (k+b < n && array[k+b] <= x) k += b;\n",
    "}\n",
    "if (array[k] == x) {\n",
    "// x found at index k\n",
    "}\n",
    "```\n",
    "</div>\n",
    "\n"
   ]
  },
  {
   "cell_type": "markdown",
   "metadata": {},
   "source": [
    "#### STL AND UPPER AND LOWER BOUND"
   ]
  },
  {
   "cell_type": "markdown",
   "metadata": {},
   "source": [
    "- **lower_bound(begin, end, value)**: gives the position of the first element in the [begin, end) range that is at least value  , ***returns >=x***\n",
    "- **upper_bound(begin, end, value)**: gives the position of the first element in the [begin, end) range that is strictly greater than value\n",
    "***returns >x***"
   ]
  },
  {
   "cell_type": "markdown",
   "metadata": {
    "vscode": {
     "languageId": "plaintext"
    }
   },
   "source": [
    "``` c\n",
    "int binary_search(vector<int> &a, int query) {\n",
    "    auto it = lower_bound(a.begin(), a.end(), query);\n",
    "    if (*it == query) {\n",
    "        return it - a.begin();\n",
    "    }\n",
    "    return -1;\n",
    "}\n",
    "```"
   ]
  },
  {
   "cell_type": "markdown",
   "metadata": {},
   "source": [
    "#### Counting the ranges "
   ]
  },
  {
   "cell_type": "markdown",
   "metadata": {},
   "source": [
    "- Using lower and upper\n",
    "``` c\n",
    "int a =  lower_bound(arr,arr+n,x)-arr;\n",
    "int b =  upper_bound(arr,arr+n,x)-arr;\n",
    "\n",
    "if(arr[a]==x)\n",
    "int countOfRange= b-a // b gives the position of first  element greater than x and x gives the position of first element equal to x\n",
    "\n",
    "- using equal_range\n",
    "int r = equal_range(arr,arr+n,x);\n",
    "cout<<r.second-r.first<<endl;"
   ]
  },
  {
   "cell_type": "markdown",
   "metadata": {},
   "source": [
    "### Binary search on answers\n"
   ]
  },
  {
   "cell_type": "markdown",
   "metadata": {},
   "source": [
    "<img src=\"./Screenshot 2025-01-16 160122.png\">"
   ]
  },
  {
   "cell_type": "markdown",
   "metadata": {},
   "source": [
    "here this will return the largest x for which it is false and hence x+1 returns the smallest x for which it is true;"
   ]
  }
 ],
 "metadata": {
  "language_info": {
   "name": "python"
  }
 },
 "nbformat": 4,
 "nbformat_minor": 2
}
