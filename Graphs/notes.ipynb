{
 "cells": [
  {
   "cell_type": "markdown",
   "id": "4b39ca76",
   "metadata": {},
   "source": [
    "\n",
    "<h1 style=\"font-family: 'Segoe UI', Tahoma, Geneva, Verdana, sans-serif; color: #2d3e50; text-align: center; margin-top: 40px; letter-spacing: 2px;\">\n",
    "    Graphs\n",
    "</h1>\n",
    "<hr style=\"border: 0; height: 2px; background: linear-gradient(to right, #6a11cb, #2575fc); width: 60%; margin: auto;\">\n"
   ]
  },
  {
   "cell_type": "markdown",
   "id": "c76ddafd",
   "metadata": {},
   "source": [
    "Points to remember \n",
    "<h1>BFS 0/1</h1> <br>\n",
    "He"
   ]
  }
 ],
 "metadata": {
  "language_info": {
   "name": "python"
  }
 },
 "nbformat": 4,
 "nbformat_minor": 5
}
