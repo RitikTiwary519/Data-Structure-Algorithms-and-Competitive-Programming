{
 "cells": [
  {
   "cell_type": "markdown",
   "id": "564ffda2",
   "metadata": {},
   "source": [
    "\n",
    "<h1 style=\"font-family: 'Segoe UI', Tahoma, Geneva, Verdana, sans-serif; color: #2d3e50; text-align: center; margin-top: 40px; letter-spacing: 2px;\">\n",
    "    Rabin-Karp Algorithm\n",
    "</h1>\n",
    "<hr style=\"border: 0; height: 2px; background: linear-gradient(to right, #6a11cb, #2575fc); width: 60%; margin: auto;\">\n"
   ]
  },
  {
   "cell_type": "markdown",
   "id": "0df72ade",
   "metadata": {},
   "source": [
    "Code is followed from the youtube video of aryan mittal"
   ]
  },
  {
   "cell_type": "markdown",
   "id": "72b4287c",
   "metadata": {},
   "source": [
    "whenever see problem of comparing of finding a string in another or a vector of string , always remember three methods\n",
    "1) Rabin karp\n",
    "2) kmp\n",
    "3) tries"
   ]
  },
  {
   "cell_type": "markdown",
   "id": "5461a497",
   "metadata": {},
   "source": [
    "\n",
    "<h1 style=\"font-family: 'Segoe UI', Tahoma, Geneva, Verdana, sans-serif; color: #2d3e50; text-align: center; margin-top: 40px; letter-spacing: 2px;\">\n",
    "    BRTUE FORCE METHOD\n",
    "</h1>\n",
    "<hr style=\"border: 0; height: 2px; background: linear-gradient(to right, #6a11cb, #2575fc); width: 60%; margin: auto;\">\n",
    "\n",
    "This will have time complexity 0(nm)\n",
    "Because there can be a case where the heapstring will be aaaaaaaa, and needle string will be aaab , in this case only last element will differ and hence worst time complexity goes upto O(NM).\n"
   ]
  },
  {
   "cell_type": "markdown",
   "id": "ec096a31",
   "metadata": {},
   "source": [
    "\n",
    "<h1 style=\"font-family: 'Segoe UI', Tahoma, Geneva, Verdana, sans-serif; color: #2d3e50; text-align: center; margin-top: 40px; letter-spacing: 2px;\">\n",
    "    Rabin-Karp Algorithm intuition and building\n",
    "</h1>\n",
    "<hr style=\"border: 0; height: 2px; background: linear-gradient(to right, #6a11cb, #2575fc); width: 60%; margin: auto;\">\n"
   ]
  },
  {
   "cell_type": "markdown",
   "id": "8426d9fb",
   "metadata": {},
   "source": [
    "1) first we think to the take the element wise sum of the needle string and check the window of the main string sequentially while doing so we search on the string , and check if the sum of that elemetns become equals , but there can be <div style=\"color: red;\">spurious hits</div> which means that we get the hit but the eleemtns are not same.\n",
    "\n",
    "2) <div style=\"color: Orange;\">robin carp</div>\n",
    "In this approach we use the method of assigning the weight of every position in the string , and then get the sum.\n",
    "\n",
    "this has the issuse when the needle becomes too large in this case , we will have to take the modolu , with a prime number to reduce the spurious hits, while searching.\n",
    "\n",
    "3) we can increase the size of the hashing , and thus lower the chagne of it, we can thus recude the chances of error by 10^-10"
   ]
  },
  {
   "cell_type": "code",
   "execution_count": null,
   "id": "35f12da5",
   "metadata": {
    "vscode": {
     "languageId": "plaintext"
    }
   },
   "outputs": [],
   "source": [
    "c```\n",
    "// Robin Karp, author : Ritik Tiwary\n",
    "\n",
    "#include <iostream>\n",
    "using namespace std;\n",
    "\n",
    "const int MOD = 1e9 + 3;\n",
    "\n",
    "int hashValue(const string &s, int radix, int m) {\n",
    "    int ans = 0, factor = 1;\n",
    "    for (int i = m - 1; i >= 0; i--) {\n",
    "        ans = (ans + ((s[i] - 'a') * 1LL * factor) % MOD) % MOD;\n",
    "        factor = (factor * 1LL * radix) % MOD;\n",
    "    }\n",
    "    return ans;\n",
    "}\n",
    "\n",
    "class Solution {\n",
    "public:\n",
    "    int strStr(string haystack, string needle) {\n",
    "        int n = haystack.size(), m = needle.size();\n",
    "        if (n < m) return -1;\n",
    "\n",
    "        int radix = 26;\n",
    "        int max_weight = 1;\n",
    "        for (int i = 1; i < m; i++) {\n",
    "            max_weight = (max_weight * 1LL * radix) % MOD;\n",
    "        }\n",
    "\n",
    "        int hashNeedle = hashValue(needle, radix, m);\n",
    "        int hashHay = hashValue(haystack.substr(0, m), radix, m);\n",
    "\n",
    "        for (int i = 0; i <= n - m; i++) {\n",
    "            if (i != 0) {\n",
    "                // Rolling hash update\n",
    "                hashHay = ((hashHay - ((haystack[i - 1] - 'a') * 1LL * max_weight) % MOD + MOD) * radix) % MOD;\n",
    "                hashHay = (hashHay + (haystack[i + m - 1] - 'a')) % MOD;\n",
    "            }\n",
    "\n",
    "            if (hashHay == hashNeedle) {\n",
    "                // Double-check to avoid false positives due to hash collisions\n",
    "                bool match = true;\n",
    "                for (int j = 0; j < m; j++) {\n",
    "                    if (haystack[i + j] != needle[j]) {\n",
    "                        match = false;\n",
    "                        break;\n",
    "                    }\n",
    "                }\n",
    "                if (match) return i;\n",
    "            }\n",
    "        }\n",
    "\n",
    "        return -1;\n",
    "    }\n",
    "};\n",
    "\n",
    "```"
   ]
  }
 ],
 "metadata": {
  "language_info": {
   "name": "python"
  }
 },
 "nbformat": 4,
 "nbformat_minor": 5
}
