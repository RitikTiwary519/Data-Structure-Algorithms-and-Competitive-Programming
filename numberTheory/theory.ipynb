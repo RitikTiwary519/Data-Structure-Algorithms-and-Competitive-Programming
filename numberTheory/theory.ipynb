{
 "cells": [
  {
   "cell_type": "markdown",
   "metadata": {},
   "source": [
    "<h1>Number Theory Handwritten Notes</h1>"
   ]
  },
  {
   "cell_type": "markdown",
   "metadata": {},
   "source": [
    "<h3>SIEVE OF ERONTHESIS</h3>"
   ]
  },
  {
   "cell_type": "code",
   "execution_count": null,
   "metadata": {},
   "outputs": [],
   "source": [
    "procedure PRIMESIEVE(limit N)\n",
    "list nums ← new list[N]\n",
    "for i from 1 to N − 1 do\n",
    "nums[i] ← i\n",
    "list of lists factorizations ← new list of lists[N]\n",
    "for i from 2 to i\n",
    "2 ≤ N do\n",
    "if nums[i]! = i then\n",
    "for j ∈ {i · i, i(i + 1), i(i + 2), ...} up to N − 1 do\n",
    "while nums[j] mod i = 0 do\n",
    "factorizations[j].add(i)\n",
    "nums[j] = nums[j]/i\n",
    "return factors"
   ]
  },
  {
   "cell_type": "code",
   "execution_count": null,
   "metadata": {},
   "outputs": [],
   "source": [
    "def prime_sieve(n):\n",
    "    nums = list(range(n))\n",
    "    factorizations = [[] for _ in range(n)]\n",
    "    \n",
    "    for i in range(2, n):\n",
    "        if nums[i] == i:\n",
    "            for j in range(i * i, n, i):\n",
    "                while nums[j] % i == 0:\n",
    "                    factorizations[j].append(i)\n",
    "                    nums[j] //= i\n",
    "    return factorizations\n",
    "\n",
    "N = 100  # Example limit\n",
    "factors = prime_sieve(N)\n",
    "print(factors)"
   ]
  },
  {
   "cell_type": "markdown",
   "metadata": {},
   "source": [
    "<h1>GCD</h1>"
   ]
  },
  {
   "cell_type": "code",
   "execution_count": null,
   "metadata": {},
   "outputs": [],
   "source": [
    "# Algorithm 16.4: Greatest Common Divisor\n",
    "# procedure GCD(A, B)\n",
    "# if B = 0 then\n",
    "# return A\n",
    "# return GCD(B, A mod B)\n",
    "def gcd(a, b):\n",
    "    while b:\n",
    "        a, b = b, a % b\n",
    "    return a\n",
    "\n",
    "# Example usage\n",
    "a = 60\n",
    "b = 48\n",
    "print(f\"The GCD of {a} and {b} is {gcd(a, b)}\")\n",
    "\n",
    "\n",
    "\n"
   ]
  },
  {
   "cell_type": "markdown",
   "metadata": {},
   "source": [
    "# Theorem 16.2\n",
    "\n",
    "<small>\n",
    "Assume a is coprime to n. Then ab ≡ ac (mod n) implies b ≡ c (mod n).\n",
    "\n",
    "Proof: Since a is coprime to n, there is a number a^(-1) such that aa^(-1) ≡ 1 (mod n).\n",
    "\n",
    "Given ab ≡ ac (mod n), multiplying both sides by a^(-1) results in:\n",
    "\n",
    "aa^(-1)b ≡ aa^(-1)c (mod n)\n",
    "\n",
    "Simplifying aa^(-1) gives us:\n",
    "\n",
    "b ≡ c (mod n)\n",
    "</small>\n"
   ]
  },
  {
   "cell_type": "markdown",
   "metadata": {},
   "source": [
    "Which means , if the number a and n are non coprime then a*x mod n ==1 never happens"
   ]
  },
  {
   "cell_type": "markdown",
   "metadata": {},
   "source": [
    "<h3>CRT</h3>"
   ]
  },
  {
   "cell_type": "markdown",
   "metadata": {},
   "source": [
    "let's say we have two coprime positive integers n1\n",
    " and n2\n",
    ". What the theorem says is that for every pair of integers (a1,a2)\n",
    " (0≤a1<n1\n",
    ", 0≤a2<n2\n",
    ") there exists exactly one integer x\n",
    " in the interval [0,n1⋅n2−1]\n",
    " such that x≡a1(modn1)\n",
    " and x≡a2(modn2)\n",
    ". In other words, every pair of integers (a1,a2)\n",
    " uniquely determines some integer x\n",
    " in the interval [0,n1⋅n2−1]\n",
    ".\n",
    "\n",
    "go here [text](https://codeforces.com/blog/entry/106851)"
   ]
  },
  {
   "cell_type": "markdown",
   "metadata": {},
   "source": [
    "<h3>Wilson's Theorem</h3>"
   ]
  },
  {
   "cell_type": "markdown",
   "metadata": {},
   "source": [
    "<small>\n",
    "<small>\n",
    "From Wikipedia, the free encyclopedia:\n",
    "\n",
    "In algebra and number theory, Wilson's theorem states that a natural number \\( n > 1 \\) is a prime number if and only if the product of all the positive integers less than \\( n \\) is one less than a multiple of \\( n \\). That is (using the notations of modular arithmetic), the factorial \\((n - 1)! = 1 \\times 2 \\times 3 \\times \\cdots \\times (n - 1)\\) satisfies \\((n - 1)! \\equiv -1 \\pmod{n}\\) exactly when \\( n \\) is a prime number. In other words, any integer \\( n > 1 \\) is a prime number if, and only if, \\((n - 1)! + 1\\) is divisible by \\( n \\).\n",
    "</small>\n"
   ]
  },
  {
   "cell_type": "markdown",
   "metadata": {},
   "source": [
    "<h3>BINARY EXPONENTIATION</h3>\n",
    "\n",
    "<h4>recursive</h4>\n",
    "\n",
    "<small>\n",
    "\n",
    "```c\n",
    "int bin(int a , int b)\n",
    "{\n",
    "    if(b==0)\n",
    "    {\n",
    "        return 1;\n",
    "    }\n",
    "    int res= bin(a,b/2);\n",
    "    if(b%2)\n",
    "    {\n",
    "        return res*res*a;\n",
    "    }\n",
    "    else\n",
    "    {\n",
    "        return res*res;\n",
    "    }\n",
    "}\n",
    "```\n",
    "```python\n",
    "def bin_exp(a, b):\n",
    "    if b == 0:\n",
    "        return 1\n",
    "    res = bin_exp(a, b // 2)\n",
    "    if b % 2:\n",
    "        return res * res * a\n",
    "    else:\n",
    "        return res * res\n",
    "```\n",
    "\n",
    "\n",
    "<h3>iteration</h3>\n",
    "\n",
    "```c\n",
    "int binpow(int a ,int b)\n",
    "{\n",
    "    int ans = 1;\n",
    "    int mult =a;\n",
    "    \n",
    "    while(b>0)\n",
    "    {\n",
    "        if(b&1)\n",
    "        {\n",
    "            ans*=mult;\n",
    "        }\n",
    "        mult*=mult;\n",
    "        b>>=1;\n",
    "    }\n",
    "    return ans;\n",
    "}\n",
    "```\n",
    "```\n",
    "```python\n",
    "def bin_exp(a, b):\n",
    "    if b == 0:\n",
    "        return 1\n",
    "    res = bin_exp(a, b // 2)\n",
    "    if b % 2:\n",
    "        return res * res * a\n",
    "    else:\n",
    "        return res * res\n",
    "```\n",
    "\n",
    "\n",
    "<h3>iteration</h3>\n",
    "\n",
    "```c\n",
    "int binpow(int a ,int b)\n",
    "{\n",
    "    int ans = 1;\n",
    "    int mult =a;\n",
    "    \n",
    "    while(b>0)\n",
    "    {\n",
    "        if(b&1)\n",
    "        {\n",
    "            ans*=mult;\n",
    "        }\n",
    "        mult*=mult;\n",
    "        b>>=1;\n",
    "    }\n",
    "    return ans;\n",
    "}\n",
    "```\n",
    "\n",
    "</small>"
   ]
  },
  {
   "cell_type": "markdown",
   "metadata": {
    "vscode": {
     "languageId": "html"
    }
   },
   "source": [
    "<div style=\"display:flex;\n",
    "justify-content: center;\n",
    "\">\n",
    "<span style=\"background-color:#9d3c3c; display: inline-block; text-align: center; padding: 5px; border-radius: 5px;\">\n",
    "  <h3 style=\"margin: 0; color: white;\">Sieve of Eronthesis</h3>\n",
    "</span>\n",
    "</div>\n"
   ]
  },
  {
   "cell_type": "markdown",
   "metadata": {},
   "source": [
    "``` c\n",
    "bool sieve[1e7];\n",
    "\n",
    "void sieving(int n)\n",
    "{\n",
    "     for (int p = 2; p * p <= n; p++) {\n",
    "        if (sieve[p] == true) {\n",
    "            for (int i = p * p; i <= n; i += p)\n",
    "                sieve[i] = false;\n",
    "        }\n",
    "    }\n",
    "}\n",
    "```\n",
    "<p style=\"font-family:roboto;\"> So this is the code</p>"
   ]
  },
  {
   "cell_type": "markdown",
   "metadata": {},
   "source": []
  }
 ],
 "metadata": {
  "kernelspec": {
   "display_name": "base",
   "language": "python",
   "name": "python3"
  },
  "language_info": {
   "codemirror_mode": {
    "name": "ipython",
    "version": 3
   },
   "file_extension": ".py",
   "mimetype": "text/x-python",
   "name": "python",
   "nbconvert_exporter": "python",
   "pygments_lexer": "ipython3",
   "version": "3.12.7"
  }
 },
 "nbformat": 4,
 "nbformat_minor": 2
}
