{
 "cells": [
  {
   "cell_type": "code",
   "execution_count": null,
   "metadata": {},
   "outputs": [],
   "source": []
  },
  {
   "cell_type": "markdown",
   "metadata": {},
   "source": [
    "From Wikipedia, the free encyclopedia:\n",
    "\n",
    "In algebra and number theory, Wilson's theorem states that a natural number \\( n > 1 \\) is a prime number if and only if the product of all the positive integers less than \\( n \\) is one less than a multiple of \\( n \\). That is (using the notations of modular arithmetic), the factorial \\((n - 1)! = 1 \\times 2 \\times 3 \\times \\cdots \\times (n - 1)\\) satisfies \\((n - 1)! \\equiv -1 \\pmod{n}\\) exactly when \\( n \\) is a prime number. In other words, any integer \\( n > 1 \\) is a prime number if, and only if, \\((n - 1)! + 1\\) is divisible by \\( n \\).\n"
   ]
  },
  {
   "cell_type": "code",
   "execution_count": null,
   "metadata": {
    "vscode": {
     "languageId": "html"
    }
   },
   "outputs": [],
   "source": []
  },
  {
   "cell_type": "markdown",
   "metadata": {},
   "source": [
    "<h1>SIEVE OF ERONTHESIS</h1>"
   ]
  },
  {
   "cell_type": "code",
   "execution_count": null,
   "metadata": {},
   "outputs": [],
   "source": [
    "procedure PRIMESIEVE(limit N)\n",
    "list nums ← new list[N]\n",
    "for i from 1 to N − 1 do\n",
    "nums[i] ← i\n",
    "list of lists factorizations ← new list of lists[N]\n",
    "for i from 2 to i\n",
    "2 ≤ N do\n",
    "if nums[i]! = i then\n",
    "for j ∈ {i · i, i(i + 1), i(i + 2), ...} up to N − 1 do\n",
    "while nums[j] mod i = 0 do\n",
    "factorizations[j].add(i)\n",
    "nums[j] = nums[j]/i\n",
    "return factors"
   ]
  },
  {
   "cell_type": "code",
   "execution_count": null,
   "metadata": {},
   "outputs": [],
   "source": [
    "def prime_sieve(n):\n",
    "    nums = list(range(n))\n",
    "    factorizations = [[] for _ in range(n)]\n",
    "    \n",
    "    for i in range(2, n):\n",
    "        if nums[i] == i:\n",
    "            for j in range(i * i, n, i):\n",
    "                while nums[j] % i == 0:\n",
    "                    factorizations[j].append(i)\n",
    "                    nums[j] //= i\n",
    "    return factorizations\n",
    "\n",
    "N = 100  # Example limit\n",
    "factors = prime_sieve(N)\n",
    "print(factors)"
   ]
  }
 ],
 "metadata": {
  "kernelspec": {
   "display_name": "base",
   "language": "python",
   "name": "python3"
  },
  "language_info": {
   "codemirror_mode": {
    "name": "ipython",
    "version": 3
   },
   "file_extension": ".py",
   "mimetype": "text/x-python",
   "name": "python",
   "nbconvert_exporter": "python",
   "pygments_lexer": "ipython3",
   "version": "3.12.7"
  }
 },
 "nbformat": 4,
 "nbformat_minor": 2
}
