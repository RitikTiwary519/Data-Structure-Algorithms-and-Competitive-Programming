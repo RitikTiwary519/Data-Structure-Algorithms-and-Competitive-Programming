{
 "cells": [
  {
   "cell_type": "markdown",
   "id": "fed0b55f",
   "metadata": {},
   "source": [
    "\n",
    "<h1 style=\"font-family: 'Segoe UI', Tahoma, Geneva, Verdana, sans-serif; color: #2d3e50; text-align: center; margin-top: 40px; letter-spacing: 2px;\">\n",
    "    Sorting\n",
    "    \n",
    "</h1>\n",
    "<hr style=\"border: 0; height: 2px; background: linear-gradient(to right, #6a11cb, #2575fc); width: 60%; margin: auto;\">\n"
   ]
  },
  {
   "cell_type": "markdown",
   "id": "7e9111ec",
   "metadata": {},
   "source": [
    "Points to remeber that, or simple what i learned while solving problems \n",
    "1) Selection sort: it is the sort that uses minimum number of the swaps to solve the problem. \n",
    "\n",
    "2) Solving the min swap to sort problem\n",
    "    1) Use selection sort\n",
    "    2) use cyclic sort , where we make the cycle which element to swap and so on at the end we identify and swap the eleemnts. this gives us the count \n",
    "    "
   ]
  },
  {
   "cell_type": "markdown",
   "id": "31d38eb8",
   "metadata": {},
   "source": []
  }
 ],
 "metadata": {
  "language_info": {
   "name": "python"
  }
 },
 "nbformat": 4,
 "nbformat_minor": 5
}
