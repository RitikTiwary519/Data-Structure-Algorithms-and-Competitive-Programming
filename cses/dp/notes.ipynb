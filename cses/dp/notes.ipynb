{
 "cells": [
  {
   "cell_type": "markdown",
   "metadata": {},
   "source": [
    "<div style=\"text-align:center;\">Dynamic programming </div>\n"
   ]
  },
  {
   "cell_type": "markdown",
   "metadata": {},
   "source": [
    "#### longest increasing subsequence\n",
    "``` cpp\n",
    "for (int k = 0; k < n; k++) {\n",
    "    length[k] = 1;\n",
    "    for (int i = 0; i < k; i++) {\n",
    "        if (array[i] < array[k]) {\n",
    "        length[k] = max(length[k],length[i]+1);\n",
    "        }\n",
    "    }\n",
    "}\n",
    "```\n",
    "``` cpp\n",
    "// striver code\n",
    "// Function to find the length of the longest increasing subsequence\n",
    "int getAns(int arr[], int n, int ind, int prev_index, vector<vector<int>>& dp) {\n",
    "    // Base condition\n",
    "    if (ind == n)\n",
    "        return 0;\n",
    "        \n",
    "    if (dp[ind][prev_index + 1] != -1)\n",
    "        return dp[ind][prev_index + 1];\n",
    "    \n",
    "    int notTake = 0 + getAns(arr, n, ind + 1, prev_index, dp);\n",
    "    \n",
    "    int take = 0;\n",
    "    \n",
    "    if (prev_index == -1 || arr[ind] > arr[prev_index]) {\n",
    "        take = 1 + getAns(arr, n, ind + 1, ind, dp);\n",
    "    }\n",
    "    \n",
    "    return dp[ind][prev_index + 1] = max(notTake, take);\n",
    "}\n",
    "\n",
    "int longestIncreasingSubsequence(int arr[], int n) {\n",
    "    // Create a 2D DP array initialized to -1\n",
    "    vector<vector<int>> dp(n, vector<int>(n + 1, -1));\n",
    "    \n",
    "    return getAns(arr, n, 0, -1, dp);\n",
    "}\n",
    "```\n",
    "\n",
    "an important learning is the change of the 1 based indexing memoisation"
   ]
  },
  {
   "cell_type": "markdown",
   "metadata": {},
   "source": []
  },
  {
   "cell_type": "markdown",
   "metadata": {},
   "source": [
    "<div style=\"text-align:center;\n",
    "\">MIn or MAx using gfg contest questions</div>\n",
    "[text](https://practice.geeksforgeeks.org/contest/gfg-weekly-190-rated-contest/problems)\n",
    "\n",
    "``` cpp\n",
    "#include <bits/stdc++.h>\n",
    "class Solution {\n",
    "  public:\n",
    "    int fun(int i,int maxor,int ans,int n,vector<int> &arr,vector<vector<int>> &dp)\n",
    "    {\n",
    "        if(maxor==ans)\n",
    "        {\n",
    "            return 0;\n",
    "        }\n",
    "        if(i==n)\n",
    "        {\n",
    "            return 1e9;\n",
    "        }\n",
    "        if(dp[i][maxor]!=-1)\n",
    "        {\n",
    "            return dp[i][maxor];\n",
    "        }\n",
    "        int updatedMaxor=(maxor| arr[i]);\n",
    "        return dp[i][maxor]=min(fun(i+1,maxor,ans,n,arr,dp),1+fun(i+1,updatedMaxor,ans,n,arr,dp));\n",
    "    }\n",
    "    int minLength(vector<int>& arr) {\n",
    "        int n = arr.size();\n",
    "        int ans=0;\n",
    "        vector<vector<int>> dp(n+1,vector<int>(10000,-1));\n",
    "        for(int i=0;i<n;i++)\n",
    "        {\n",
    "            ans|=arr[i];   \n",
    "        }\n",
    "        \n",
    "        return fun(0,0,ans,n,arr,dp);\n",
    "    }\n",
    "};\n",
    "```"
   ]
  },
  {
   "cell_type": "markdown",
   "metadata": {},
   "source": []
  }
 ],
 "metadata": {
  "language_info": {
   "name": "python"
  }
 },
 "nbformat": 4,
 "nbformat_minor": 2
}
