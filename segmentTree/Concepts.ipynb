{
 "cells": [
  {
   "cell_type": "markdown",
   "metadata": {},
   "source": [
    "<h1 style=\"display:flex; justify-content: center;\n",
    "background-color:blue;\n",
    "\">Ranged based queries<h1>"
   ]
  },
  {
   "cell_type": "markdown",
   "metadata": {},
   "source": [
    "## Sparse Tables"
   ]
  },
  {
   "cell_type": "markdown",
   "metadata": {},
   "source": [
    "<p> Sparse table are of two types for index and for value<p>\n",
    "<p style=\"font-family: monospace;\"> we can directly find the value in o(1) for overlapping problems that does not raise issue but for the part like mulitplication where overlapping does causes an issue we would rather , do the 0(logn) way.<p>\n",
    "\n",
    "\n",
    "below is the cpp code for my reference\n",
    "[Videos source from where i learnt](https://youtu.be/uUatD9AudXo?si=SHPIHqueOZ4jrC0q)"
   ]
  },
  {
   "cell_type": "markdown",
   "metadata": {},
   "source": [
    "\n",
    "\n",
    "``` c\n",
    "// taking inputs\n",
    "int n;\n",
    "cin>>n;\n",
    "vector<int> v(n),l(n);\n",
    "for(int i=0;i<n;i++)\n",
    "{\n",
    "    cin>>v[i];\n",
    "}\n",
    "\n",
    "//building the log2 table for faster calculation\n",
    "for(int i=1;i<n;i++)\n",
    "{\n",
    "    l[i]=l[floor(i/2)]+1;\n",
    "}\n",
    "\n",
    "int P = lo[n];\n",
    "vector<vector<int>> dp(p+1,vector<int>(n+1,0));\n",
    "vector<vector<int>> it(p+1,vector<int>(n+1,0));\n",
    "\n",
    "//filling the first row\n",
    "for(int i=0;i<n;i++)\n",
    "{\n",
    "    dp[0][i]=v[i];\n",
    "    it[0][i]=i;\n",
    "}\n",
    "\n",
    "//filling the later row basically it is dp\n",
    "for(int p=1;p<P;p++)\n",
    "{\n",
    "    for(int i=0;i+(1<<p)<=n;i++)\n",
    "    {\n",
    "        int left = dp[p-1][i];\n",
    "        int right= dp[p-1][i+(1<<(p-1))] ;\n",
    "        dp[p][i]=min(left,right);\n",
    "        if(left<=right)\n",
    "        {\n",
    "            it[p][i]=it[p-1][i];\n",
    "        }\n",
    "        else\n",
    "        {\n",
    "            it[p][i]=it[p-1][i+(1<<(p-1))]\n",
    "        }\n",
    "    }\n",
    "}\n",
    "\n",
    "//queries like for the overlapping , which causes no issues \n",
    "int minQuery(int l,int r)\n",
    "{\n",
    "    int len = r-l+1;\n",
    "    p= lo[len];\n",
    "    int left = dp[p][l];\n",
    "    int right = dp[p][r-(1<<p)+1];\n",
    "    return min(left,right);\n",
    "}\n",
    "\n",
    "int cascading(int l,int r)\n",
    "{\n",
    "    int minval = INTMAX;\n",
    "    for(int p= lo[r-l+1];l<=r;p=lo[r-l+1])\n",
    "    {\n",
    "        minval = min(minval,dp[p][l]);\n",
    "        l+=(1<<p);\n",
    "    }\n",
    "    return minval;\n",
    "}\n",
    "\n",
    "\n",
    "```"
   ]
  },
  {
   "cell_type": "markdown",
   "metadata": {},
   "source": []
  }
 ],
 "metadata": {
  "language_info": {
   "name": "python"
  }
 },
 "nbformat": 4,
 "nbformat_minor": 2
}
